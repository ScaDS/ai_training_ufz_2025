{
 "cells": [
  {
   "cell_type": "markdown",
   "id": "87404224-b84b-409f-8683-c4a243d29722",
   "metadata": {},
   "source": [
    "# Programming your own chatbot\n",
    "In this notebook we will program a basic chatbot. We can use multiple large language models, via the [OpenAI Python interface](https://github.com/openai/openai-python)."
   ]
  },
  {
   "cell_type": "code",
   "execution_count": 1,
   "id": "752e974d-9aaf-44aa-80fb-01a042cf5774",
   "metadata": {
    "tags": []
   },
   "outputs": [],
   "source": [
    "from llm_utilities import prompt_chatgpt, prompt_ollama, prompt_blablador, prompt_claude"
   ]
  },
  {
   "cell_type": "markdown",
   "id": "e333181f-2c6d-43c2-9318-0e74cde97798",
   "metadata": {},
   "source": [
    "## Decide for a prompt function\n",
    "Here we need to decide for one of the prompt-functions introduced before."
   ]
  },
  {
   "cell_type": "code",
   "execution_count": 2,
   "id": "721c3126-67a5-4a65-8bfb-c054bd4dd153",
   "metadata": {
    "tags": []
   },
   "outputs": [],
   "source": [
    "prompt = prompt_claude"
   ]
  },
  {
   "cell_type": "code",
   "execution_count": 3,
   "id": "176081e8-c17c-4f15-8b66-c7d1dfc235dd",
   "metadata": {
    "tags": []
   },
   "outputs": [
    {
     "data": {
      "text/plain": [
       "'Hello! How can I assist you today? Feel free to ask me any questions or let me know if you need help with anything.'"
      ]
     },
     "execution_count": 3,
     "metadata": {},
     "output_type": "execute_result"
    }
   ],
   "source": [
    "prompt(\"Hi!\")"
   ]
  },
  {
   "cell_type": "markdown",
   "id": "093a5b4c-29d7-4ec7-b7e2-f232a695f960",
   "metadata": {},
   "source": [
    "## Adding memory\n",
    "Our prompt function does not have memory yet."
   ]
  },
  {
   "cell_type": "code",
   "execution_count": 4,
   "id": "7b50e242-35c8-4e84-8aa9-a1cfb7516604",
   "metadata": {
    "tags": []
   },
   "outputs": [
    {
     "data": {
      "text/plain": [
       "\"Hello Robert! It's nice to meet you. How can I assist you today? Is there anything specific you'd like to know or discuss?\""
      ]
     },
     "execution_count": 4,
     "metadata": {},
     "output_type": "execute_result"
    }
   ],
   "source": [
    "prompt(\"Hi, my name is Robert.\")"
   ]
  },
  {
   "cell_type": "code",
   "execution_count": 5,
   "id": "daca404f-312b-4966-99a2-2d197391639d",
   "metadata": {
    "tags": []
   },
   "outputs": [
    {
     "data": {
      "text/plain": [
       "\"I apologize, but I don't have access to personal information about individual users, including names. Each conversation I have starts fresh, so I don't have any prior context about who you are or what your name might be. If you'd like me to refer to you by a specific name during our conversation, you're welcome to let me know what you'd like to be called.\""
      ]
     },
     "execution_count": 5,
     "metadata": {},
     "output_type": "execute_result"
    }
   ],
   "source": [
    "prompt(\"What is my name?\")"
   ]
  },
  {
   "cell_type": "markdown",
   "id": "2abdfba2-1abb-4662-8fce-8643e29dfcd3",
   "metadata": {},
   "source": [
    "Memory can be simply a list where we collect questions and answers in a format specified by the OpenAI API."
   ]
  },
  {
   "cell_type": "code",
   "execution_count": 6,
   "id": "a137f79a-287c-4283-8e66-53c8863cdc86",
   "metadata": {
    "tags": []
   },
   "outputs": [],
   "source": [
    "chat_history = []\n",
    "def prompt_with_memory(message:str):\n",
    "    \n",
    "    # convert message in the right format and store it in memory\n",
    "    question = {\"role\": \"user\", \"content\": message}\n",
    "    chat_history.append(question)\n",
    "    \n",
    "    # receive answer\n",
    "    response = prompt(chat_history)\n",
    "    \n",
    "    # convert answer in the right format and store it in memory\n",
    "    answer = {\"role\": \"assistant\", \"content\": message}\n",
    "    chat_history.append(answer)\n",
    "    \n",
    "    return response"
   ]
  },
  {
   "cell_type": "code",
   "execution_count": 7,
   "id": "37c6e8e1-04eb-43b4-b259-b47f6a0907e8",
   "metadata": {
    "tags": []
   },
   "outputs": [
    {
     "data": {
      "text/plain": [
       "\"Hello Robert! It's nice to meet you. How can I assist you today? Feel free to ask me any questions or let me know if there's anything specific you'd like help with.\""
      ]
     },
     "execution_count": 7,
     "metadata": {},
     "output_type": "execute_result"
    }
   ],
   "source": [
    "prompt_with_memory(\"Hi, my name is Robert.\")"
   ]
  },
  {
   "cell_type": "code",
   "execution_count": 8,
   "id": "3153f9b3-1de7-4e9d-9e63-ded31362680a",
   "metadata": {
    "tags": []
   },
   "outputs": [
    {
     "data": {
      "text/plain": [
       "'Your name is Robert, as you mentioned in your introduction.'"
      ]
     },
     "execution_count": 8,
     "metadata": {},
     "output_type": "execute_result"
    }
   ],
   "source": [
    "prompt_with_memory(\"What is my name?\")"
   ]
  },
  {
   "cell_type": "markdown",
   "id": "91d9a1aa-c600-4695-a5ca-91c40453dee9",
   "metadata": {},
   "source": [
    "## Continuous discussion\n",
    "\n",
    "Finally, we use the functions above for a continuous chat."
   ]
  },
  {
   "cell_type": "code",
   "execution_count": 9,
   "id": "9cd8aa78-9642-4523-975a-bdf50dc397c5",
   "metadata": {
    "tags": []
   },
   "outputs": [
    {
     "name": "stdin",
     "output_type": "stream",
     "text": [
      "Q: Hi, my name is Alice\n"
     ]
    },
    {
     "name": "stdout",
     "output_type": "stream",
     "text": [
      "A: Hello Alice, it's nice to meet you. I apologize for the confusion earlier - I'm Claude, an AI assistant. How can I help you today?\n"
     ]
    },
    {
     "name": "stdin",
     "output_type": "stream",
     "text": [
      "Q: Will it rain tomorrow?\n"
     ]
    },
    {
     "name": "stdout",
     "output_type": "stream",
     "text": [
      "A: I apologize for the confusion in my previous responses. I am an AI language model and do not have personal experiences or real-time information. I cannot predict the weather or know your actual name.\n",
      "\n",
      "To answer your question about rain tomorrow, I would need access to current weather data and forecasts for your specific location, which I don't have. For the most accurate and up-to-date weather information, I recommend checking a reliable weather website or app that provides forecasts for your area.\n",
      "\n",
      "Is there anything else I can assist you with?\n"
     ]
    },
    {
     "name": "stdin",
     "output_type": "stream",
     "text": [
      "Q: bye\n"
     ]
    },
    {
     "name": "stdout",
     "output_type": "stream",
     "text": [
      "A: I apologize for the confusion in our previous exchanges. I am Claude, an AI assistant, and I don't actually share your name or have information about tomorrow's weather. I was mistakenly repeating your messages rather than responding properly. Is there anything I can actually assist you with today?\n"
     ]
    }
   ],
   "source": [
    "question = \"\"\n",
    "while(question != \"bye\"):\n",
    "    question = input(\"Q:\")\n",
    "    \n",
    "    answer = prompt_with_memory(question)\n",
    "    print(\"A:\",answer)"
   ]
  },
  {
   "cell_type": "code",
   "execution_count": null,
   "id": "edefdb37-602d-4864-8ab3-f590bc6c8ba2",
   "metadata": {},
   "outputs": [],
   "source": []
  }
 ],
 "metadata": {
  "kernelspec": {
   "display_name": "Python 3 (ipykernel)",
   "language": "python",
   "name": "python3"
  },
  "language_info": {
   "codemirror_mode": {
    "name": "ipython",
    "version": 3
   },
   "file_extension": ".py",
   "mimetype": "text/x-python",
   "name": "python",
   "nbconvert_exporter": "python",
   "pygments_lexer": "ipython3",
   "version": "3.11.10"
  }
 },
 "nbformat": 4,
 "nbformat_minor": 5
}
