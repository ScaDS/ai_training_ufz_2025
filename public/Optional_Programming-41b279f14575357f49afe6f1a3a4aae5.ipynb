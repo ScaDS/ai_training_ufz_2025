{
 "cells": [
  {
   "cell_type": "markdown",
   "id": "57f5e169-ca07-427e-bb71-97276a48d2ae",
   "metadata": {},
   "source": [
    "# Optional: Programming DMP Generation\n",
    "In this notebook I will use the [Blablador API](https://sdlaml.pages.jsc.fz-juelich.de/ai/guides/blablador_api_access/#step-1-register-on-gitlab) to turn a fictive project description and a skeleton for a Data Management Plan (DMP) into a project-specific DMP. If you want to rerun this notebook, you need a Blablador API key, and store it as `BLABLADOR_API_KEY` in your environment variables. Also make sure to execute this notebook in an environment where the [openai python library](https://pypi.org/project/openai/) is installed, e.g. using `pip install openai`."
   ]
  },
  {
   "cell_type": "code",
   "execution_count": 1,
   "id": "3b93d13e-d891-4b42-8f1e-eb72114bb560",
   "metadata": {},
   "outputs": [],
   "source": [
    "import openai\n",
    "from IPython.display import display, Markdown"
   ]
  },
  {
   "cell_type": "markdown",
   "id": "f35bfce6-0947-4636-97ee-25b60f02e6d2",
   "metadata": {},
   "source": [
    "We define some helper-function to send a prompt to blablador and retrieve the result. ([source](https://scads.github.io/generative-ai-notebooks/15_endpoint_apis/03_blablador_endpoint.html))"
   ]
  },
  {
   "cell_type": "code",
   "execution_count": 2,
   "id": "1a6ecc39-15bf-4718-a88b-3a5e2f706e57",
   "metadata": {},
   "outputs": [],
   "source": [
    "def prompt(message:str, model=\"1 - Llama3 405 on WestAI with 4b quantization\"):\n",
    "    \"\"\"A prompt helper function that sends a message to Blablador (FZ Jülich)\n",
    "    and returns only the text response.\n",
    "    \"\"\"\n",
    "    import os\n",
    "    import openai\n",
    "    \n",
    "    # setup connection to the LLM\n",
    "    client = openai.OpenAI()\n",
    "    client.base_url = \"https://helmholtz-blablador.fz-juelich.de:8000/v1\"\n",
    "    client.api_key = os.environ.get('BLABLADOR_API_KEY')\n",
    "    response = client.chat.completions.create(\n",
    "        model=model,\n",
    "        messages=[{\"role\": \"user\", \"content\": message}]\n",
    "    )\n",
    "    \n",
    "    # extract answer\n",
    "    return response.choices[0].message.content"
   ]
  },
  {
   "cell_type": "markdown",
   "id": "48041f02-04d5-427c-a951-8812c3b79dc0",
   "metadata": {},
   "source": [
    "## Asking chatGPT about DMPs"
   ]
  },
  {
   "cell_type": "code",
   "execution_count": 3,
   "id": "5e1eb16e-c77c-4d47-87d4-51442a24b61d",
   "metadata": {
    "scrolled": true
   },
   "outputs": [
    {
     "data": {
      "text/markdown": [
       "* Data Types and Formats\n",
       "* Data Collection and Storage\n",
       "* Data Sharing and Access\n",
       "* Data Quality and Validation\n",
       "* Data Security and Backup\n",
       "* Data Archiving and Preservation\n",
       "* Data Sharing and Reuse\n",
       "* Roles and Responsibilities"
      ],
      "text/plain": [
       "<IPython.core.display.Markdown object>"
      ]
     },
     "metadata": {},
     "output_type": "display_data"
    }
   ],
   "source": [
    "result = prompt(\"\"\"\n",
    "Give me a short list of typical sections of a Data Management Plan. \n",
    "Write bullet points in markdown format and no detailed explanation.\n",
    "\"\"\")\n",
    "\n",
    "display(Markdown(result))"
   ]
  },
  {
   "cell_type": "code",
   "execution_count": 4,
   "id": "9d07631d-fac2-485e-8d5b-b2a3f2717e98",
   "metadata": {},
   "outputs": [
    {
     "data": {
      "text/markdown": [
       "In a Data Management Plan, the \"Backup and Archiving\" section typically describes the procedures for creating and managing backup copies of research data to ensure its availability and integrity in case of data loss or corruption. This section may outline the frequency and method of backups, the type of storage media used, and the location of backup storage. Additionally, it may discuss long-term archiving plans, including the format and storage of data for preservation and potential reuse."
      ],
      "text/plain": [
       "<IPython.core.display.Markdown object>"
      ]
     },
     "metadata": {},
     "output_type": "display_data"
    }
   ],
   "source": [
    "result = prompt(\"\"\"\n",
    "What is commonly described in a section about \"Backup and Archiving\" in a \n",
    "Data Management Plan? Answer in 3 sentences.\n",
    "\"\"\")\n",
    "\n",
    "display(Markdown(result))"
   ]
  },
  {
   "cell_type": "markdown",
   "id": "16f3a16c-b730-4192-9d03-83f3f56d0054",
   "metadata": {},
   "source": [
    "## Our project description\n",
    "In the following cell you find a description of a fictive project. It contains all aspects of such a project that came to my mind when I though of the aspects chatGPT mentioned above. It is structured chronologously, listing things that happen early in the project first, and transitioning towards publication of a manuscript, code and data. "
   ]
  },
  {
   "cell_type": "code",
   "execution_count": 5,
   "id": "a1e63667-400f-40ef-8e91-cba88abdc629",
   "metadata": {},
   "outputs": [],
   "source": [
    "project_description = \"\"\"\n",
    "In our project we investigate the underlying physical principles for Gastrulation \n",
    "in Tribolium castaneum embryo development. Therefore, we use light-sheet microscopes\n",
    "to acquire 3D timelapse imaging data. We store this data in the NGFF file format. \n",
    "After acquistion, two scientists, typically a PhD student and a post-doc or \n",
    "group leader look into the data together and decide if the dataset will be analyzed \n",
    "in detail. In case yes, we upload the data to an Omero-Server, a research data \n",
    "management solution specifically developed for microscopy imaging data. Data on \n",
    "this server is automatically backed-up by the compute center of our university. We then login \n",
    "to the Jupyter Lab server of the institute where we analyze the data. Analysis results\n",
    "are also stored in the Omero-Server next to the imaging data results belong to. The\n",
    "Python analysis code we write is stored in the institutional git-server. Also this \n",
    "server is backed up by the compute center. When the project advances, we start writing\n",
    "a manuscipt using overleaf, an online service for collaborative manuscipt editing \n",
    "based on latex files. After every writing session, we save back the changed manuscript \n",
    "to the institutional git server. As soon as the manuscript is finished and \n",
    "submitted to the bioRxiv, a preprint server in the life-sciences, we also publish the \n",
    "project-related code by marking the project on the git-server as public. We also\n",
    "tag the code with a release version. At the same time we publish the imaging data \n",
    "by submitting a copy of the dataset from the Omero-Server to zenodo.org, a \n",
    "community-driven repository for research data funded by the European Union. Another \n",
    "copy of the data, the code and the manuscript is stored on the institutional archive \n",
    "server. This server, maintained by the compute center, garantees to archive data for \n",
    "15 years. Documents and data we published is licensed under CC-BY 4.0 license. The code \n",
    "we publish is licensed BSD3. The entire project and all steps of the data life-cycle \n",
    "are documented in an institutional labnotebook where every user has to pay 10 Euro \n",
    "per month. Four people will work on the project. The compute center estimates the \n",
    "costs for storage and maintenance of the infrastructure to 20k Euro and half a \n",
    "position of an IT specialist. The project duration is four years.\n",
    "\"\"\""
   ]
  },
  {
   "cell_type": "markdown",
   "id": "04a0742c-28b1-44c9-8d7e-64ac0d91d7fc",
   "metadata": {},
   "source": [
    "We can then use this project description as part of a prompt to chatGPT to turn this unstructured text into a DMP."
   ]
  },
  {
   "cell_type": "code",
   "execution_count": 6,
   "id": "a3fa8696-4fc2-4bde-a459-71a4a6cb7661",
   "metadata": {},
   "outputs": [
    {
     "data": {
      "text/markdown": [
       "**Data Management Plan for \"Tribolium Development\" Research Group**\n",
       "\n",
       "**Project Overview**\n",
       "\n",
       "Our research group aims to investigate the underlying physical principles for Gastrulation in Tribolium castaneum embryo development. This project will generate large amounts of 3D timelapse imaging data, which will be analyzed and published in accordance with the principles of open science.\n",
       "\n",
       "**Data Generation and Storage**\n",
       "\n",
       "* 3D timelapse imaging data will be acquired using light-sheet microscopes and stored in the NGFF file format.\n",
       "* All imaging data will be uploaded to an Omero-Server, a research data management solution specifically developed for microscopy imaging data, which is automatically backed up by the compute center of our university.\n",
       "* The Omero-Server will store both raw and analyzed data, ensuring that all data is properly versioned and linked to relevant metadata.\n",
       "\n",
       "**Data Analysis and Code Management**\n",
       "\n",
       "* Data analysis will be performed using Jupyter Lab server, which is connected to the Omero-Server.\n",
       "* Analysis code will be written in Python and stored in the institutional git-server, which is backed up by the compute center.\n",
       "* All code will be version-controlled, and changes will be tracked through the git-server.\n",
       "\n",
       "**Collaboration and Manuscript Writing**\n",
       "\n",
       "* Manuscripts will be written collaboratively using Overleaf, an online service for collaborative manuscript editing based on LaTeX files.\n",
       "* Manuscript versions will be saved regularly to the institutional git-server.\n",
       "\n",
       "**Data and Code Publication**\n",
       "\n",
       "* Upon manuscript submission to bioRxiv, a preprint server in the life sciences, the project-related code will be made public by marking the project on the git-server as public and tagging the code with a release version.\n",
       "* Imaging data will be published by submitting a copy of the dataset from the Omero-Server to Zenodo.org, a community-driven repository for research data funded by the European Union.\n",
       "\n",
       "**Long-term Preservation and Archiving**\n",
       "\n",
       "* A copy of the data, code, and manuscript will be stored on the institutional archive server, which is maintained by the compute center and guarantees data archiving for 15 years.\n",
       "\n",
       "**Licensing and Access**\n",
       "\n",
       "* All published data and documents will be licensed under the CC-BY 4.0 license.\n",
       "* Published code will be licensed under the BSD3 license.\n",
       "\n",
       "**Documentation and Project Management**\n",
       "\n",
       "* The entire project and all steps of the data life cycle will be documented in an institutional lab notebook, accessible to all project members.\n",
       "* Four people will work on the project, and the compute center estimates the costs for storage and maintenance of the infrastructure to be 20k Euro and half a position of an IT specialist.\n",
       "\n",
       "**Project Timeline and Funding**\n",
       "\n",
       "* The project duration is four years.\n",
       "* Funding for the project has been allocated to cover the costs of storage, maintenance, and personnel.\n",
       "\n",
       "By following this Data Management Plan, our research group aims to ensure that all data and code generated during this project are properly stored, analyzed, and published in accordance with the principles of open science, and that all data and materials are preserved for long-term access and reuse."
      ],
      "text/plain": [
       "<IPython.core.display.Markdown object>"
      ]
     },
     "metadata": {},
     "output_type": "display_data"
    }
   ],
   "source": [
    "result = prompt(f\"\"\"\n",
    "You are a professional grant proposal writer. In the following comes a description of \n",
    "a common project in our \"Tribolium Development\" Research Group at the University. \n",
    "Your task is to reformulate this project description into a Data Management Plan.\n",
    "\n",
    "{project_description}\n",
    "\"\"\")\n",
    "\n",
    "display(Markdown(result))"
   ]
  },
  {
   "cell_type": "markdown",
   "id": "c9a587f9-4136-4cda-9845-3d22e69ea6a7",
   "metadata": {},
   "source": [
    "## Combining information and structure\n",
    "We next modify the prompt to also add information about the structure we need. This structure may be different from funding agency to funding agency and thus, this step is crucial in customizing the DMP accoring to given formal requirements."
   ]
  },
  {
   "cell_type": "code",
   "execution_count": 7,
   "id": "7c14e17c-8a1e-40a5-8123-ea5e4aa4dc35",
   "metadata": {},
   "outputs": [
    {
     "data": {
      "text/markdown": [
       "# Data Management Plan\n",
       "\n",
       "## Data description\n",
       "\n",
       "In this project, we will generate 3D timelapse imaging data of Tribolium castaneum embryo development using light-sheet microscopes. The data will be stored in the NGFF file format. Additionally, we will produce analysis results, Python code for data analysis, and a manuscript.\n",
       "\n",
       "## Documentation and data quality\n",
       "\n",
       "* All data and analysis steps will be documented in an institutional lab notebook, accessible to all project members at a cost of €10 per month per user.\n",
       "* Data quality will be ensured through collaborative review by at least two scientists (PhD student and post-doc or group leader) before deciding on further analysis.\n",
       "* Analysis code will be stored in an institutional Git-server, with regular backups by the compute center.\n",
       "\n",
       "## Storage and technical archiving the project\n",
       "\n",
       "* Imaging data will be stored on an Omero-Server, a research data management solution specifically developed for microscopy imaging data, with automatic backups by the compute center.\n",
       "* Analysis results will be stored alongside the imaging data on the Omero-Server.\n",
       "* Python analysis code will be stored in the institutional Git-server, with regular backups by the compute center.\n",
       "* Manuscript drafts will be stored on the institutional Git-server, with regular backups by the compute center.\n",
       "* A copy of the dataset, code, and manuscript will be archived on the institutional archive server, maintained by the compute center, which guarantees data archiving for 15 years.\n",
       "\n",
       "## Legal obligations and conditions\n",
       "\n",
       "* All published data, code, and manuscripts will be licensed under CC-BY 4.0 (data and manuscripts) or BSD3 (code).\n",
       "* The project will comply with the European Union's data protection regulations.\n",
       "\n",
       "## Data exchange and long-term data accessibility\n",
       "\n",
       "* Imaging data will be published on zenodo.org, a community-driven repository for research data, upon manuscript submission to bioRxiv.\n",
       "* Analysis code will be made publicly available on the institutional Git-server, with a release version tag, upon manuscript submission.\n",
       "* The institutional archive server will ensure long-term data accessibility for at least 15 years.\n",
       "\n",
       "## Responsibilities and resources\n",
       "\n",
       "* Four project members will be responsible for data management and analysis.\n",
       "* The compute center will provide storage and maintenance of the infrastructure at an estimated cost of €20,000 and half a position of an IT specialist.\n",
       "* The project duration is four years."
      ],
      "text/plain": [
       "<IPython.core.display.Markdown object>"
      ]
     },
     "metadata": {},
     "output_type": "display_data"
    }
   ],
   "source": [
    "result = prompt(f\"\"\"\n",
    "You are a professional grant proposal writer. In the following comes a description of \n",
    "a common project in our \"Tribolium Development\" Research Group at the University. \n",
    "Your task is to reformulate this project description into a Data Management Plan.\n",
    "\n",
    "{project_description}\n",
    "\n",
    "The required structure for the data management plan, we need to write is like this:\n",
    "\n",
    "# Data Management Plan\n",
    "## Data description\n",
    "## Documentation and data quality\n",
    "## Storage and technical archiving the project\n",
    "## Legal obligations and conditions \n",
    "## Data exchange and long-term data accessibility\n",
    "## Responsibilities and resources\n",
    "\n",
    "Use Markdown for headlines and text style.\n",
    "\"\"\")\n",
    "\n",
    "display(Markdown(result))"
   ]
  },
  {
   "cell_type": "code",
   "execution_count": null,
   "id": "15e9df21-873a-4fb5-ab98-f7fb65a1c814",
   "metadata": {},
   "outputs": [],
   "source": []
  }
 ],
 "metadata": {
  "kernelspec": {
   "display_name": "Python 3 (ipykernel)",
   "language": "python",
   "name": "python3"
  },
  "language_info": {
   "codemirror_mode": {
    "name": "ipython",
    "version": 3
   },
   "file_extension": ".py",
   "mimetype": "text/x-python",
   "name": "python",
   "nbconvert_exporter": "python",
   "pygments_lexer": "ipython3",
   "version": "3.11.11"
  }
 },
 "nbformat": 4,
 "nbformat_minor": 5
}
