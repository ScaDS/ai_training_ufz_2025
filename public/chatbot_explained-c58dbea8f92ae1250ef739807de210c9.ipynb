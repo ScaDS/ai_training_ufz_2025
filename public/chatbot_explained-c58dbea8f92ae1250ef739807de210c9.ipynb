{
 "cells": [
  {
   "cell_type": "markdown",
   "id": "87404224-b84b-409f-8683-c4a243d29722",
   "metadata": {},
   "source": [
    "# Programming your own chatbot\n",
    "In this notebook we will program a basic chatbot. We can use multiple large language models, via the [OpenAI Python interface](https://github.com/openai/openai-python)."
   ]
  },
  {
   "cell_type": "code",
   "execution_count": 1,
   "id": "752e974d-9aaf-44aa-80fb-01a042cf5774",
   "metadata": {
    "tags": []
   },
   "outputs": [],
   "source": [
    "from llm_utilities import prompt_chatgpt, prompt_ollama, prompt_blablador, prompt_claude"
   ]
  },
  {
   "cell_type": "markdown",
   "id": "e333181f-2c6d-43c2-9318-0e74cde97798",
   "metadata": {},
   "source": [
    "## Decide for a prompt function\n",
    "Here we need to decide for one of the prompt-functions introduced before."
   ]
  },
  {
   "cell_type": "code",
   "execution_count": 2,
   "id": "721c3126-67a5-4a65-8bfb-c054bd4dd153",
   "metadata": {
    "tags": []
   },
   "outputs": [],
   "source": [
    "prompt = prompt_blablador"
   ]
  },
  {
   "cell_type": "code",
   "execution_count": 3,
   "id": "176081e8-c17c-4f15-8b66-c7d1dfc235dd",
   "metadata": {
    "tags": []
   },
   "outputs": [
    {
     "data": {
      "text/plain": [
       "'Hello! How can I help you today?'"
      ]
     },
     "execution_count": 3,
     "metadata": {},
     "output_type": "execute_result"
    }
   ],
   "source": [
    "prompt(\"Hi!\")"
   ]
  },
  {
   "cell_type": "markdown",
   "id": "093a5b4c-29d7-4ec7-b7e2-f232a695f960",
   "metadata": {},
   "source": [
    "## Adding memory\n",
    "Our prompt function does not have memory yet."
   ]
  },
  {
   "cell_type": "code",
   "execution_count": 4,
   "id": "7b50e242-35c8-4e84-8aa9-a1cfb7516604",
   "metadata": {
    "tags": []
   },
   "outputs": [
    {
     "data": {
      "text/plain": [
       "'Nice to meet you, Robert! How are you doing today? Is there something I can help you with or would you like to chat?'"
      ]
     },
     "execution_count": 4,
     "metadata": {},
     "output_type": "execute_result"
    }
   ],
   "source": [
    "prompt(\"Hi, my name is Robert.\")"
   ]
  },
  {
   "cell_type": "code",
   "execution_count": 5,
   "id": "daca404f-312b-4966-99a2-2d197391639d",
   "metadata": {
    "tags": []
   },
   "outputs": [
    {
     "data": {
      "text/plain": [
       "\"I'm a large language model, I don't have any information about your personal identity, including your name. Our conversation just started, and I don't retain any information about individual users. If you'd like to share your name with me, I'd be happy to chat with you and learn more about you!\""
      ]
     },
     "execution_count": 5,
     "metadata": {},
     "output_type": "execute_result"
    }
   ],
   "source": [
    "prompt(\"What is my name?\")"
   ]
  },
  {
   "cell_type": "markdown",
   "id": "2abdfba2-1abb-4662-8fce-8643e29dfcd3",
   "metadata": {},
   "source": [
    "Memory can be simply a list where we collect questions and answers in a format specified by the OpenAI API."
   ]
  },
  {
   "cell_type": "code",
   "execution_count": 6,
   "id": "a137f79a-287c-4283-8e66-53c8863cdc86",
   "metadata": {
    "tags": []
   },
   "outputs": [],
   "source": [
    "chat_history = []\n",
    "def prompt_with_memory(message:str):\n",
    "    \n",
    "    # convert message in the right format and store it in memory\n",
    "    question = {\"role\": \"user\", \"content\": message}\n",
    "    chat_history.append(question)\n",
    "    \n",
    "    # receive answer\n",
    "    response = prompt(chat_history)\n",
    "    \n",
    "    # convert answer in the right format and store it in memory\n",
    "    answer = {\"role\": \"assistant\", \"content\": message}\n",
    "    chat_history.append(answer)\n",
    "    \n",
    "    return response"
   ]
  },
  {
   "cell_type": "code",
   "execution_count": 7,
   "id": "37c6e8e1-04eb-43b4-b259-b47f6a0907e8",
   "metadata": {
    "tags": []
   },
   "outputs": [
    {
     "data": {
      "text/plain": [
       "'Hello Robert! Nice to meet you! Is there something I can help you with or would you like to chat?'"
      ]
     },
     "execution_count": 7,
     "metadata": {},
     "output_type": "execute_result"
    }
   ],
   "source": [
    "prompt_with_memory(\"Hi, my name is Robert.\")"
   ]
  },
  {
   "cell_type": "code",
   "execution_count": 8,
   "id": "3153f9b3-1de7-4e9d-9e63-ded31362680a",
   "metadata": {
    "tags": []
   },
   "outputs": [
    {
     "data": {
      "text/plain": [
       "'Your name is Robert!'"
      ]
     },
     "execution_count": 8,
     "metadata": {},
     "output_type": "execute_result"
    }
   ],
   "source": [
    "prompt_with_memory(\"What is my name?\")"
   ]
  },
  {
   "cell_type": "markdown",
   "id": "91d9a1aa-c600-4695-a5ca-91c40453dee9",
   "metadata": {},
   "source": [
    "## Continuous discussion\n",
    "\n",
    "Finally, we use the functions above for a continuous chat."
   ]
  },
  {
   "cell_type": "code",
   "execution_count": null,
   "id": "9cd8aa78-9642-4523-975a-bdf50dc397c5",
   "metadata": {
    "tags": []
   },
   "outputs": [],
   "source": [
    "question = \"\"\n",
    "while(question != \"bye\"):\n",
    "    question = input(\"Q:\")\n",
    "    \n",
    "    answer = prompt_with_memory(question)\n",
    "    print(\"A:\",answer)"
   ]
  },
  {
   "cell_type": "code",
   "execution_count": null,
   "id": "edefdb37-602d-4864-8ab3-f590bc6c8ba2",
   "metadata": {},
   "outputs": [],
   "source": []
  }
 ],
 "metadata": {
  "kernelspec": {
   "display_name": "Python 3 (ipykernel)",
   "language": "python",
   "name": "python3"
  },
  "language_info": {
   "codemirror_mode": {
    "name": "ipython",
    "version": 3
   },
   "file_extension": ".py",
   "mimetype": "text/x-python",
   "name": "python",
   "nbconvert_exporter": "python",
   "pygments_lexer": "ipython3",
   "version": "3.11.11"
  }
 },
 "nbformat": 4,
 "nbformat_minor": 5
}
